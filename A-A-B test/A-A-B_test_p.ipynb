{
 "cells": [
  {
   "cell_type": "markdown",
   "id": "988bfad3",
   "metadata": {
    "toc": true
   },
   "source": [
    "<h1>Table of Contents<span class=\"tocSkip\"></span></h1>\n",
    "<div class=\"toc\"><ul class=\"toc-item\"><li><span><a href=\"#Анализ-поведения-пользователей-мобильного-приложения,-продающего-продукты-питания.\" data-toc-modified-id=\"Анализ-поведения-пользователей-мобильного-приложения,-продающего-продукты-питания.-1\">Анализ поведения пользователей мобильного приложения, продающего продукты питания.</a></span><ul class=\"toc-item\"><li><span><a href=\"#Предобработка-данных:\" data-toc-modified-id=\"Предобработка-данных:-1.1\">Предобработка данных:</a></span></li><li><span><a href=\"#Изучение-и-проверка-данных:\" data-toc-modified-id=\"Изучение-и-проверка-данных:-1.2\">Изучение и проверка данных:</a></span></li><li><span><a href=\"#Изучение-воронки-событий:\" data-toc-modified-id=\"Изучение-воронки-событий:-1.3\">Изучение воронки событий:</a></span><ul class=\"toc-item\"><li><span><a href=\"#Комментарий-от-ревьюера-v_1\" data-toc-modified-id=\"Комментарий-от-ревьюера-v_1-1.3.1\">Комментарий от ревьюера v_1</a></span></li><li><span><a href=\"#Комментарий-студента:\" data-toc-modified-id=\"Комментарий-студента:-1.3.2\">Комментарий студента:</a></span></li></ul></li><li><span><a href=\"#Результаты-эксперимента\" data-toc-modified-id=\"Результаты-эксперимента-1.4\">Результаты эксперимента</a></span><ul class=\"toc-item\"><li><span><a href=\"#Комментарий-от-ревьюера-v_1\" data-toc-modified-id=\"Комментарий-от-ревьюера-v_1-1.4.1\">Комментарий от ревьюера v_1</a></span></li><li><span><a href=\"#Комментарий-от-ревьюера-v_1\" data-toc-modified-id=\"Комментарий-от-ревьюера-v_1-1.4.2\">Комментарий от ревьюера v_1</a></span></li><li><span><a href=\"#Комментарий-студента:\" data-toc-modified-id=\"Комментарий-студента:-1.4.3\">Комментарий студента:</a></span></li><li><span><a href=\"#Комментарий-от-ревьюера-v_1\" data-toc-modified-id=\"Комментарий-от-ревьюера-v_1-1.4.4\">Комментарий от ревьюера v_1</a></span></li><li><span><a href=\"#Комментарий-от-ревьюера-v_1\" data-toc-modified-id=\"Комментарий-от-ревьюера-v_1-1.4.5\">Комментарий от ревьюера v_1</a></span></li><li><span><a href=\"#Комментарий-от-ревьюера-v_1\" data-toc-modified-id=\"Комментарий-от-ревьюера-v_1-1.4.6\">Комментарий от ревьюера v_1</a></span></li><li><span><a href=\"#Комментарий-студента:\" data-toc-modified-id=\"Комментарий-студента:-1.4.7\">Комментарий студента:</a></span></li></ul></li></ul></li></ul></div>"
   ]
  },
  {
   "cell_type": "markdown",
   "id": "079a70fb",
   "metadata": {},
   "source": [
    "# Анализ поведения пользователей мобильного приложения, продающего продукты питания. "
   ]
  },
  {
   "cell_type": "markdown",
   "id": "f0315a12",
   "metadata": {},
   "source": [
    "**Цель исследования: Проведение А/A/B-теста с целью выяснения: изменилось ли количество пользователей, перешедших на следующий этап оформления товара, после изменения шрифтов.**"
   ]
  },
  {
   "cell_type": "markdown",
   "id": "7f177031",
   "metadata": {},
   "source": [
    "Задачи:\n",
    "\n",
    " - Предобработка данных. \n",
    " - Изучение и проверка данных.\n",
    " - Изучение воронки событий.\n",
    " - Результаты эксперимента."
   ]
  },
  {
   "cell_type": "code",
   "execution_count": 1,
   "id": "cdf76ce5",
   "metadata": {},
   "outputs": [],
   "source": [
    "import pandas as pd\n",
    "import matplotlib.pyplot as plt\n",
    "import scipy.stats as st\n",
    "import datetime as dt\n",
    "import numpy as np\n",
    "import math as mth\n",
    "import warnings\n",
    "warnings.filterwarnings(\"ignore\")"
   ]
  },
  {
   "cell_type": "code",
   "execution_count": 2,
   "id": "ec9a00c8",
   "metadata": {},
   "outputs": [],
   "source": [
    "try:\n",
    "    data = pd.read_csv('...')\n",
    "except:\n",
    "    data = pd.read_csv('...')"
   ]
  },
  {
   "cell_type": "markdown",
   "id": "a3899b4e",
   "metadata": {},
   "source": [
    "## Предобработка данных:"
   ]
  },
  {
   "cell_type": "code",
   "execution_count": 3,
   "id": "6024e631",
   "metadata": {},
   "outputs": [],
   "source": [
    "data.columns = ['event', 'user_id', 'timestamp', 'exper'] # переименование столбцов"
   ]
  },
  {
   "cell_type": "code",
   "execution_count": 4,
   "id": "671560f1",
   "metadata": {},
   "outputs": [],
   "source": [
    "# добавление двух столбцов с данными в соответствующих форматах\n",
    "data['date'] = pd.to_datetime(data['timestamp'],unit='s')\n",
    "data['dt'] = pd.to_datetime(data['date']).dt.round('1D')"
   ]
  },
  {
   "cell_type": "code",
   "execution_count": 5,
   "id": "530bbeb0",
   "metadata": {},
   "outputs": [
    {
     "data": {
      "text/html": [
       "<div>\n",
       "<style scoped>\n",
       "    .dataframe tbody tr th:only-of-type {\n",
       "        vertical-align: middle;\n",
       "    }\n",
       "\n",
       "    .dataframe tbody tr th {\n",
       "        vertical-align: top;\n",
       "    }\n",
       "\n",
       "    .dataframe thead th {\n",
       "        text-align: right;\n",
       "    }\n",
       "</style>\n",
       "<table border=\"1\" class=\"dataframe\">\n",
       "  <thead>\n",
       "    <tr style=\"text-align: right;\">\n",
       "      <th></th>\n",
       "      <th>event</th>\n",
       "      <th>user_id</th>\n",
       "      <th>timestamp</th>\n",
       "      <th>exper</th>\n",
       "      <th>date</th>\n",
       "      <th>dt</th>\n",
       "    </tr>\n",
       "  </thead>\n",
       "  <tbody>\n",
       "    <tr>\n",
       "      <th>0</th>\n",
       "      <td>MainScreenAppear</td>\n",
       "      <td>4575588528974610257</td>\n",
       "      <td>1564029816</td>\n",
       "      <td>246</td>\n",
       "      <td>2019-07-25 04:43:36</td>\n",
       "      <td>2019-07-25</td>\n",
       "    </tr>\n",
       "    <tr>\n",
       "      <th>1</th>\n",
       "      <td>MainScreenAppear</td>\n",
       "      <td>7416695313311560658</td>\n",
       "      <td>1564053102</td>\n",
       "      <td>246</td>\n",
       "      <td>2019-07-25 11:11:42</td>\n",
       "      <td>2019-07-25</td>\n",
       "    </tr>\n",
       "    <tr>\n",
       "      <th>2</th>\n",
       "      <td>PaymentScreenSuccessful</td>\n",
       "      <td>3518123091307005509</td>\n",
       "      <td>1564054127</td>\n",
       "      <td>248</td>\n",
       "      <td>2019-07-25 11:28:47</td>\n",
       "      <td>2019-07-25</td>\n",
       "    </tr>\n",
       "    <tr>\n",
       "      <th>3</th>\n",
       "      <td>CartScreenAppear</td>\n",
       "      <td>3518123091307005509</td>\n",
       "      <td>1564054127</td>\n",
       "      <td>248</td>\n",
       "      <td>2019-07-25 11:28:47</td>\n",
       "      <td>2019-07-25</td>\n",
       "    </tr>\n",
       "    <tr>\n",
       "      <th>4</th>\n",
       "      <td>PaymentScreenSuccessful</td>\n",
       "      <td>6217807653094995999</td>\n",
       "      <td>1564055322</td>\n",
       "      <td>248</td>\n",
       "      <td>2019-07-25 11:48:42</td>\n",
       "      <td>2019-07-25</td>\n",
       "    </tr>\n",
       "  </tbody>\n",
       "</table>\n",
       "</div>"
      ],
      "text/plain": [
       "                     event              user_id   timestamp  exper  \\\n",
       "0         MainScreenAppear  4575588528974610257  1564029816    246   \n",
       "1         MainScreenAppear  7416695313311560658  1564053102    246   \n",
       "2  PaymentScreenSuccessful  3518123091307005509  1564054127    248   \n",
       "3         CartScreenAppear  3518123091307005509  1564054127    248   \n",
       "4  PaymentScreenSuccessful  6217807653094995999  1564055322    248   \n",
       "\n",
       "                 date         dt  \n",
       "0 2019-07-25 04:43:36 2019-07-25  \n",
       "1 2019-07-25 11:11:42 2019-07-25  \n",
       "2 2019-07-25 11:28:47 2019-07-25  \n",
       "3 2019-07-25 11:28:47 2019-07-25  \n",
       "4 2019-07-25 11:48:42 2019-07-25  "
      ]
     },
     "execution_count": 5,
     "metadata": {},
     "output_type": "execute_result"
    }
   ],
   "source": [
    "data.head()"
   ]
  },
  {
   "cell_type": "code",
   "execution_count": 6,
   "id": "75dc636d",
   "metadata": {},
   "outputs": [
    {
     "name": "stdout",
     "output_type": "stream",
     "text": [
      "413\n"
     ]
    }
   ],
   "source": [
    "# считаем дубликаты\n",
    "print(data.duplicated().sum())"
   ]
  },
  {
   "cell_type": "code",
   "execution_count": 7,
   "id": "bb1e319a",
   "metadata": {},
   "outputs": [],
   "source": [
    "#удаляем дубликаты\n",
    "data = data.drop_duplicates().reset_index()"
   ]
  },
  {
   "cell_type": "code",
   "execution_count": 8,
   "id": "be156962",
   "metadata": {},
   "outputs": [
    {
     "name": "stdout",
     "output_type": "stream",
     "text": [
      "Количество пользователей попавших в обе группы: 0\n"
     ]
    }
   ],
   "source": [
    "#проверка попадания пользователей в разные группы\n",
    "duble_users = data.groupby('user_id').agg({'exper': 'nunique'}).query('exper > 1')\n",
    "print('Количество пользователей попавших в обе группы:', len(duble_users))"
   ]
  },
  {
   "cell_type": "code",
   "execution_count": 9,
   "id": "6e658a2d",
   "metadata": {},
   "outputs": [
    {
     "name": "stdout",
     "output_type": "stream",
     "text": [
      "<class 'pandas.core.frame.DataFrame'>\n",
      "RangeIndex: 243713 entries, 0 to 243712\n",
      "Data columns (total 7 columns):\n",
      " #   Column     Non-Null Count   Dtype         \n",
      "---  ------     --------------   -----         \n",
      " 0   index      243713 non-null  int64         \n",
      " 1   event      243713 non-null  object        \n",
      " 2   user_id    243713 non-null  int64         \n",
      " 3   timestamp  243713 non-null  int64         \n",
      " 4   exper      243713 non-null  int64         \n",
      " 5   date       243713 non-null  datetime64[ns]\n",
      " 6   dt         243713 non-null  datetime64[ns]\n",
      "dtypes: datetime64[ns](2), int64(4), object(1)\n",
      "memory usage: 13.0+ MB\n"
     ]
    }
   ],
   "source": [
    "data.info()"
   ]
  },
  {
   "cell_type": "markdown",
   "id": "835c3923",
   "metadata": {},
   "source": [
    "## Изучение и проверка данных:"
   ]
  },
  {
   "cell_type": "code",
   "execution_count": 10,
   "id": "73a315bb",
   "metadata": {},
   "outputs": [
    {
     "name": "stdout",
     "output_type": "stream",
     "text": [
      "Всего событий в логе 243713\n"
     ]
    }
   ],
   "source": [
    "print('Всего событий в логе', data['event'].count())"
   ]
  },
  {
   "cell_type": "code",
   "execution_count": 11,
   "id": "ac5e2bc8",
   "metadata": {},
   "outputs": [
    {
     "name": "stdout",
     "output_type": "stream",
     "text": [
      "Всего пользователей в логе 7551\n"
     ]
    }
   ],
   "source": [
    "print('Всего пользователей в логе', data['user_id'].nunique())"
   ]
  },
  {
   "cell_type": "code",
   "execution_count": 12,
   "id": "0106946a",
   "metadata": {},
   "outputs": [
    {
     "name": "stdout",
     "output_type": "stream",
     "text": [
      "В среднем событий приходится на пользователя 32\n"
     ]
    },
    {
     "data": {
      "text/plain": [
       "count    7551.000000\n",
       "mean       32.275593\n",
       "std        65.154219\n",
       "min         1.000000\n",
       "25%         9.000000\n",
       "50%        20.000000\n",
       "75%        37.000000\n",
       "max      2307.000000\n",
       "Name: event_count, dtype: float64"
      ]
     },
     "execution_count": 12,
     "metadata": {},
     "output_type": "execute_result"
    },
    {
     "data": {
      "image/png": "[encoded data removed]",
      "text/plain": [
       "<Figure size 640x480 with 1 Axes>"
      ]
     },
     "metadata": {},
     "output_type": "display_data"
    }
   ],
   "source": [
    "print('В среднем событий приходится на пользователя', round(data.groupby('user_id')['event'].count().mean()))\n",
    "event_user = data.groupby('user_id').agg(event_count=('event', 'count')).reset_index()\n",
    "event_user['event_count'].hist(bins=100)\n",
    "event_user['event_count'].describe()"
   ]
  },
  {
   "cell_type": "code",
   "execution_count": 13,
   "id": "dbc24e81",
   "metadata": {},
   "outputs": [
    {
     "name": "stdout",
     "output_type": "stream",
     "text": [
      "Минимальная дата лога 2019-07-25 00:00:00\n",
      "Максимальная дата лога 2019-08-08 00:00:00\n"
     ]
    }
   ],
   "source": [
    "print('Минимальная дата лога', min(data['dt']))\n",
    "print('Максимальная дата лога', max(data['dt']))"
   ]
  },
  {
   "cell_type": "code",
   "execution_count": 14,
   "id": "72fd4f3c",
   "metadata": {},
   "outputs": [
    {
     "data": {
      "text/plain": [
       "<AxesSubplot:>"
      ]
     },
     "execution_count": 14,
     "metadata": {},
     "output_type": "execute_result"
    },
    {
     "data": {
      "image/png": "[encoded data removed]",
      "text/plain": [
       "<Figure size 1500x700 with 1 Axes>"
      ]
     },
     "metadata": {},
     "output_type": "display_data"
    }
   ],
   "source": [
    "data['date'].hist(figsize=(15, 7))"
   ]
  },
  {
   "cell_type": "code",
   "execution_count": 15,
   "id": "e5d10526",
   "metadata": {},
   "outputs": [
    {
     "data": {
      "image/png": "[encoded data removed]",
      "text/plain": [
       "<Figure size 1400x500 with 1 Axes>"
      ]
     },
     "metadata": {},
     "output_type": "display_data"
    }
   ],
   "source": [
    "# вариант графика\n",
    "data['date'].hist(bins=14*24, figsize=(14, 5));"
   ]
  },
  {
   "cell_type": "code",
   "execution_count": 16,
   "id": "68d5ba4b",
   "metadata": {},
   "outputs": [
    {
     "name": "stdout",
     "output_type": "stream",
     "text": [
      "Потеряли событий при удалении \"прошлого\" 2826 (1.2%)\n",
      "Потеряли уникальных пользователей при удалении \"прошлого\" 17 (0.2%)\n"
     ]
    }
   ],
   "source": [
    "# убираем события из прошлого \"доехавшие\" по некоторым пользователям, которые заканцивали цикл действий\n",
    "data2 = data.query('date >=\"2019-08-01\"')\n",
    "\n",
    "# анализируем удаленные данные\n",
    "data_del = data.query('date <\"2019-08-01\"')\n",
    "print('Потеряли событий при удалении \"прошлого\"', data.shape[0]-data2.shape[0],\n",
    "     \"({:.1%})\".format((data.shape[0]-data2.shape[0])/data.shape[0]))\n",
    "\n",
    "print('Потеряли уникальных пользователей при удалении \"прошлого\"', \\\n",
    "      data['user_id'].nunique() - data2['user_id'].nunique(), \\\n",
    "      \"({:.1%})\".format((data['user_id'].nunique() - data2['user_id'].nunique())/data['user_id'].nunique()))"
   ]
  },
  {
   "cell_type": "markdown",
   "id": "33089a55",
   "metadata": {},
   "source": [
    "*Вывод по удаленным данным:*\n",
    " - потеряли 1.2% событий\n",
    " - потеряли 0.2% уникальных пользователей (если будете перезапускать расчеты, придется подождать пару минут, долго считает цикл)"
   ]
  },
  {
   "cell_type": "code",
   "execution_count": 17,
   "id": "29dd0e44",
   "metadata": {},
   "outputs": [
    {
     "data": {
      "text/plain": [
       "exper\n",
       "246    2484\n",
       "247    2513\n",
       "248    2537\n",
       "Name: user_id, dtype: int64"
      ]
     },
     "execution_count": 17,
     "metadata": {},
     "output_type": "execute_result"
    }
   ],
   "source": [
    "# количество пользователей по группам (по новым данным)\n",
    "data2.groupby('exper')['user_id'].nunique()"
   ]
  },
  {
   "cell_type": "markdown",
   "id": "68a33676",
   "metadata": {},
   "source": [
    "## Изучение воронки событий:"
   ]
  },
  {
   "cell_type": "markdown",
   "id": "3b000359",
   "metadata": {},
   "source": [
    "**Количество событий в логах:**"
   ]
  },
  {
   "cell_type": "code",
   "execution_count": 18,
   "id": "7ca84135",
   "metadata": {},
   "outputs": [
    {
     "data": {
      "text/html": [
       "<div>\n",
       "<style scoped>\n",
       "    .dataframe tbody tr th:only-of-type {\n",
       "        vertical-align: middle;\n",
       "    }\n",
       "\n",
       "    .dataframe tbody tr th {\n",
       "        vertical-align: top;\n",
       "    }\n",
       "\n",
       "    .dataframe thead th {\n",
       "        text-align: right;\n",
       "    }\n",
       "</style>\n",
       "<table border=\"1\" class=\"dataframe\">\n",
       "  <thead>\n",
       "    <tr style=\"text-align: right;\">\n",
       "      <th></th>\n",
       "      <th>total</th>\n",
       "    </tr>\n",
       "    <tr>\n",
       "      <th>event</th>\n",
       "      <th></th>\n",
       "    </tr>\n",
       "  </thead>\n",
       "  <tbody>\n",
       "    <tr>\n",
       "      <th>MainScreenAppear</th>\n",
       "      <td>117328</td>\n",
       "    </tr>\n",
       "    <tr>\n",
       "      <th>OffersScreenAppear</th>\n",
       "      <td>46333</td>\n",
       "    </tr>\n",
       "    <tr>\n",
       "      <th>CartScreenAppear</th>\n",
       "      <td>42303</td>\n",
       "    </tr>\n",
       "    <tr>\n",
       "      <th>PaymentScreenSuccessful</th>\n",
       "      <td>33918</td>\n",
       "    </tr>\n",
       "    <tr>\n",
       "      <th>Tutorial</th>\n",
       "      <td>1005</td>\n",
       "    </tr>\n",
       "  </tbody>\n",
       "</table>\n",
       "</div>"
      ],
      "text/plain": [
       "                          total\n",
       "event                          \n",
       "MainScreenAppear         117328\n",
       "OffersScreenAppear        46333\n",
       "CartScreenAppear          42303\n",
       "PaymentScreenSuccessful   33918\n",
       "Tutorial                   1005"
      ]
     },
     "execution_count": 18,
     "metadata": {},
     "output_type": "execute_result"
    }
   ],
   "source": [
    "data2.groupby('event').agg(total=('event', 'count')).sort_values(by='total', ascending=False)"
   ]
  },
  {
   "cell_type": "markdown",
   "id": "feab6048",
   "metadata": {},
   "source": [
    "**Количество пользователей совершавших эти события:**"
   ]
  },
  {
   "cell_type": "code",
   "execution_count": 19,
   "id": "35fa44f0",
   "metadata": {},
   "outputs": [
    {
     "data": {
      "text/html": [
       "<div>\n",
       "<style scoped>\n",
       "    .dataframe tbody tr th:only-of-type {\n",
       "        vertical-align: middle;\n",
       "    }\n",
       "\n",
       "    .dataframe tbody tr th {\n",
       "        vertical-align: top;\n",
       "    }\n",
       "\n",
       "    .dataframe thead th {\n",
       "        text-align: right;\n",
       "    }\n",
       "</style>\n",
       "<table border=\"1\" class=\"dataframe\">\n",
       "  <thead>\n",
       "    <tr style=\"text-align: right;\">\n",
       "      <th></th>\n",
       "      <th>event</th>\n",
       "      <th>total</th>\n",
       "    </tr>\n",
       "  </thead>\n",
       "  <tbody>\n",
       "    <tr>\n",
       "      <th>0</th>\n",
       "      <td>MainScreenAppear</td>\n",
       "      <td>7419</td>\n",
       "    </tr>\n",
       "    <tr>\n",
       "      <th>1</th>\n",
       "      <td>OffersScreenAppear</td>\n",
       "      <td>4593</td>\n",
       "    </tr>\n",
       "    <tr>\n",
       "      <th>2</th>\n",
       "      <td>CartScreenAppear</td>\n",
       "      <td>3734</td>\n",
       "    </tr>\n",
       "    <tr>\n",
       "      <th>3</th>\n",
       "      <td>PaymentScreenSuccessful</td>\n",
       "      <td>3539</td>\n",
       "    </tr>\n",
       "    <tr>\n",
       "      <th>4</th>\n",
       "      <td>Tutorial</td>\n",
       "      <td>840</td>\n",
       "    </tr>\n",
       "  </tbody>\n",
       "</table>\n",
       "</div>"
      ],
      "text/plain": [
       "                     event  total\n",
       "0         MainScreenAppear   7419\n",
       "1       OffersScreenAppear   4593\n",
       "2         CartScreenAppear   3734\n",
       "3  PaymentScreenSuccessful   3539\n",
       "4                 Tutorial    840"
      ]
     },
     "execution_count": 19,
     "metadata": {},
     "output_type": "execute_result"
    }
   ],
   "source": [
    "event_users = data2.groupby('event', as_index=False).agg(total=('user_id', 'nunique')).sort_values(by='total', ascending=False)\n",
    "event_users.reset_index(drop=True, inplace=True)\n",
    "event_users"
   ]
  },
  {
   "cell_type": "markdown",
   "id": "68a446cb",
   "metadata": {},
   "source": [
    "**Доля пользователей, которые хоть раз совершали событие:**"
   ]
  },
  {
   "cell_type": "code",
   "execution_count": 20,
   "id": "83d3932f",
   "metadata": {},
   "outputs": [
    {
     "data": {
      "text/html": [
       "<div>\n",
       "<style scoped>\n",
       "    .dataframe tbody tr th:only-of-type {\n",
       "        vertical-align: middle;\n",
       "    }\n",
       "\n",
       "    .dataframe tbody tr th {\n",
       "        vertical-align: top;\n",
       "    }\n",
       "\n",
       "    .dataframe thead th {\n",
       "        text-align: right;\n",
       "    }\n",
       "</style>\n",
       "<table border=\"1\" class=\"dataframe\">\n",
       "  <thead>\n",
       "    <tr style=\"text-align: right;\">\n",
       "      <th></th>\n",
       "      <th>event</th>\n",
       "      <th>total</th>\n",
       "      <th>proportion_users</th>\n",
       "    </tr>\n",
       "  </thead>\n",
       "  <tbody>\n",
       "    <tr>\n",
       "      <th>0</th>\n",
       "      <td>MainScreenAppear</td>\n",
       "      <td>7419</td>\n",
       "      <td>98.3</td>\n",
       "    </tr>\n",
       "    <tr>\n",
       "      <th>1</th>\n",
       "      <td>OffersScreenAppear</td>\n",
       "      <td>4593</td>\n",
       "      <td>60.8</td>\n",
       "    </tr>\n",
       "    <tr>\n",
       "      <th>2</th>\n",
       "      <td>CartScreenAppear</td>\n",
       "      <td>3734</td>\n",
       "      <td>49.5</td>\n",
       "    </tr>\n",
       "    <tr>\n",
       "      <th>3</th>\n",
       "      <td>PaymentScreenSuccessful</td>\n",
       "      <td>3539</td>\n",
       "      <td>46.9</td>\n",
       "    </tr>\n",
       "    <tr>\n",
       "      <th>4</th>\n",
       "      <td>Tutorial</td>\n",
       "      <td>840</td>\n",
       "      <td>11.1</td>\n",
       "    </tr>\n",
       "  </tbody>\n",
       "</table>\n",
       "</div>"
      ],
      "text/plain": [
       "                     event  total  proportion_users\n",
       "0         MainScreenAppear   7419              98.3\n",
       "1       OffersScreenAppear   4593              60.8\n",
       "2         CartScreenAppear   3734              49.5\n",
       "3  PaymentScreenSuccessful   3539              46.9\n",
       "4                 Tutorial    840              11.1"
      ]
     },
     "execution_count": 20,
     "metadata": {},
     "output_type": "execute_result"
    }
   ],
   "source": [
    "event_users2 = data2.groupby('event', as_index=False).agg(total=('user_id', 'nunique')).sort_values(by='total', ascending=False)\n",
    "event_users2.reset_index(drop=True, inplace=True)\n",
    "event_users2['proportion_users'] = round(event_users2['total'] / data['user_id'].nunique() *100, 1)\n",
    "event_users2"
   ]
  },
  {
   "cell_type": "markdown",
   "id": "77fb3c29",
   "metadata": {},
   "source": [
    "**В каком порядке происходят события:**"
   ]
  },
  {
   "cell_type": "markdown",
   "id": "acaaeff9",
   "metadata": {},
   "source": [
    "Логичнее было бы так:\n",
    "\n",
    "- 1) MainScreenAppear (заглавная страница)\n",
    "- 2) Tutorial (руководство)\n",
    "- 3) CartScreenAppear\t(просмотр карточки товара)\n",
    "- 4) OffersScreenAppear (корзина)\n",
    "- 5) PaymentScreenSuccessful (оплата)\n",
    "\n",
    "но руководство читает 11% пользователей, зашедших на 1-ю страницу, а некоторые пользователи не смотрят карточку товара (видимо уже знают хорошо продукт) и сразу кладут его в корзину.\n",
    "\n",
    "Таким образом не все события выстраиваются в логическую (последовательную) цепочку."
   ]
  },
  {
   "cell_type": "markdown",
   "id": "fd42f777",
   "metadata": {},
   "source": [
    "**Доля пользователей проходящих на следующий шаг воронки:**"
   ]
  },
  {
   "cell_type": "code",
   "execution_count": 22,
   "id": "c3495ef4",
   "metadata": {},
   "outputs": [
    {
     "data": {
      "text/html": [
       "<div>\n",
       "<style scoped>\n",
       "    .dataframe tbody tr th:only-of-type {\n",
       "        vertical-align: middle;\n",
       "    }\n",
       "\n",
       "    .dataframe tbody tr th {\n",
       "        vertical-align: top;\n",
       "    }\n",
       "\n",
       "    .dataframe thead th {\n",
       "        text-align: right;\n",
       "    }\n",
       "</style>\n",
       "<table border=\"1\" class=\"dataframe\">\n",
       "  <thead>\n",
       "    <tr style=\"text-align: right;\">\n",
       "      <th></th>\n",
       "      <th>event</th>\n",
       "      <th>total</th>\n",
       "      <th>next_total</th>\n",
       "      <th>proportion_users_to_next_level</th>\n",
       "    </tr>\n",
       "  </thead>\n",
       "  <tbody>\n",
       "    <tr>\n",
       "      <th>0</th>\n",
       "      <td>MainScreenAppear</td>\n",
       "      <td>7419</td>\n",
       "      <td>7419.0</td>\n",
       "      <td>100.0</td>\n",
       "    </tr>\n",
       "    <tr>\n",
       "      <th>1</th>\n",
       "      <td>OffersScreenAppear</td>\n",
       "      <td>4593</td>\n",
       "      <td>7419.0</td>\n",
       "      <td>61.9</td>\n",
       "    </tr>\n",
       "    <tr>\n",
       "      <th>2</th>\n",
       "      <td>CartScreenAppear</td>\n",
       "      <td>3734</td>\n",
       "      <td>4593.0</td>\n",
       "      <td>81.3</td>\n",
       "    </tr>\n",
       "    <tr>\n",
       "      <th>3</th>\n",
       "      <td>PaymentScreenSuccessful</td>\n",
       "      <td>3539</td>\n",
       "      <td>3734.0</td>\n",
       "      <td>94.8</td>\n",
       "    </tr>\n",
       "  </tbody>\n",
       "</table>\n",
       "</div>"
      ],
      "text/plain": [
       "                     event  total  next_total  proportion_users_to_next_level\n",
       "0         MainScreenAppear   7419      7419.0                           100.0\n",
       "1       OffersScreenAppear   4593      7419.0                            61.9\n",
       "2         CartScreenAppear   3734      4593.0                            81.3\n",
       "3  PaymentScreenSuccessful   3539      3734.0                            94.8"
      ]
     },
     "execution_count": 22,
     "metadata": {},
     "output_type": "execute_result"
    }
   ],
   "source": [
    "#исключаем воронку Tutorial\n",
    "event_users_no_tuttorial = event_users.query('event != \"Tutorial\"')\n",
    "\n",
    "for i in range(len(event_users_no_tuttorial)):\n",
    "    if i == 0:\n",
    "        event_users_no_tuttorial.loc[i, 'next_total'] = event_users_no_tuttorial.loc[i, 'total']\n",
    "    else:\n",
    "        event_users_no_tuttorial.loc[i, 'next_total'] = event_users_no_tuttorial.loc[i-1, 'total']\n",
    "    \n",
    "event_users_no_tuttorial['proportion_users_to_next_level'] = round(event_users_no_tuttorial['total'] / event_users_no_tuttorial['next_total'] * 100, 1)\n",
    "event_users_no_tuttorial"
   ]
  },
  {
   "cell_type": "markdown",
   "id": "745d7c0c",
   "metadata": {},
   "source": [
    "*Вывод:*\n",
    " - больше всего пользователей теряется при переходе на страницу OffersScreenAppear,\n",
    " - от 1-ого события до оплаты проходит 47.7% пользователей."
   ]
  },
  {
   "cell_type": "markdown",
   "id": "94701d22",
   "metadata": {},
   "source": [
    "## Результаты эксперимента"
   ]
  },
  {
   "cell_type": "markdown",
   "id": "a4cab28a",
   "metadata": {},
   "source": [
    "Количество пользователей в каждой экспериментальной группе:"
   ]
  },
  {
   "cell_type": "code",
   "execution_count": 23,
   "id": "72693c75",
   "metadata": {},
   "outputs": [
    {
     "data": {
      "text/plain": [
       "exper\n",
       "246    2484\n",
       "247    2513\n",
       "248    2537\n",
       "Name: user_id, dtype: int64"
      ]
     },
     "execution_count": 23,
     "metadata": {},
     "output_type": "execute_result"
    }
   ],
   "source": [
    "# количество пользователей по группам (по новым данным)\n",
    "exp_users = data2.groupby('exper')['user_id'].nunique()\n",
    "exp_users"
   ]
  },
  {
   "cell_type": "markdown",
   "id": "debc1d88",
   "metadata": {},
   "source": [
    "**Проверка гипотез для пропорции (сравнения пропорций двух генеральных совокупностей по выборкам из них):**\n",
    "\n",
    "Используем Z-тест.\n",
    "\n",
    "По условию, нужно сопоставить доли по каждому событию между:\n",
    "\n",
    " - контрольными группами 246 и 247;\n",
    " - каждой из контрольной группы по отдельности и экспериментальной (246-248 и 247-248);\n",
    " - объединенной контрольной группой и экспериментальной (246+247 и 248).\n",
    " \n",
    "Всего у нас 4 вида событий (Tutorial не учитываем): 4 A/A теста и 12 А/В, чтобы застраховать себя от ложного результата вводим поправку Бонферрони равную 16."
   ]
  },
  {
   "cell_type": "code",
   "execution_count": 24,
   "id": "86363f87",
   "metadata": {},
   "outputs": [],
   "source": [
    "#убираем событие Tutorial\n",
    "data3 = data2.query('event != \"Tutorial\"')"
   ]
  },
  {
   "cell_type": "code",
   "execution_count": 25,
   "id": "b191b95f",
   "metadata": {},
   "outputs": [],
   "source": [
    " '''\n",
    " Функция принимает 1-событие, 2-датафрейм с уникальными пользователями(группа 1), \n",
    " 3-датафрейм с уникальными пользователями(группа 2),\n",
    " 4-критический уровень статистической значимости, 5-поправка Бонферрони.\n",
    " \n",
    " Для каждого события попарно проверяется - есть ли статистически значимая разница между долями пользователей, \n",
    " совершивших его в группе 1 и группе 2 (одно А/А тестирование по 4-ем воронкам и три А/В тестирования по 4-ем воронкам)\n",
    " \n",
    " Так как распределение статистики нормальное, вызовем метод cdf().\n",
    "    Саму статистику возьмём по модулю методом abs() — чтобы получить правильный результат независимо от её знака.\n",
    "    Это возможно, потому что тест двусторонний. По этой же причине удваиваем результат\n",
    " '''\n",
    "def z_test (event, df1, df2, alpha, n):\n",
    "\n",
    "    # критический уровень статистической значимости c поправкой Бонферрони\n",
    "    bonferroni_alpha = alpha / n\n",
    "\n",
    "    # число пользователей в группе 1 и группе 2\n",
    "    trials = np.array([df1['user_id'].nunique(), df2['user_id'].nunique()])\n",
    "\n",
    "    # число пользователей, совершивших событие в группе 1 и группе 2\n",
    "    successes = np.array([df1[df1['event'] == event]['user_id'].nunique(), df2[df2['event'] == event]['user_id'].nunique()])\n",
    "\n",
    "    # пропорция успехов в 1-ой группе:\n",
    "    p1 = successes[0]/trials[0]\n",
    "\n",
    "    # пропорция успехов во 2-ой группе:\n",
    "    p2 = successes[1]/trials[1]\n",
    "\n",
    "    # пропорция успехов в комбинированном датасете:\n",
    "    p_combined = (successes[0] + successes[1]) / (trials[0] + trials[1])\n",
    "\n",
    "    # разница пропорций в датасетах\n",
    "    difference = p1 - p2 \n",
    "\n",
    "    # считаем статистику в ст.отклонениях стандартного нормального распределения\n",
    "    z_value = difference / mth.sqrt(p_combined * (1 - p_combined) * (1/trials[0] + 1/trials[1]))\n",
    "\n",
    "    # задаем стандартное нормальное распределение (среднее 0, ст.отклонение 1)\n",
    "    distr = st.norm(0, 1)  \n",
    "\n",
    "    p_value = (1 - distr.cdf(abs(z_value))) * 2\n",
    "\n",
    "    print('Событие:', event)\n",
    "    print('p-значение: ', p_value)\n",
    "\n",
    "    if p_value < bonferroni_alpha:\n",
    "        print('Отвергаем нулевую гипотезу: между долями есть значимая разница')\n",
    "    else:\n",
    "        print('Не получилось отвергнуть нулевую гипотезу, нет оснований считать доли разными') "
   ]
  },
  {
   "cell_type": "markdown",
   "id": "95184d8b",
   "metadata": {},
   "source": [
    "Указываем гипотезы:\n",
    " - Н0: Доля пользователей проходящих на следующий шаг воронки одинаковы для группы 1 и группы 2\n",
    " - Н1: Доля пользователей проходящих на следующий шаг воронки НЕ одинаковы для группы 1 и группы 2"
   ]
  },
  {
   "cell_type": "markdown",
   "id": "2a42bff2",
   "metadata": {},
   "source": [
    "**Проверяем есть ли статистически значимая разница между контрольными группами 246 и 247 (А/А-тест):**"
   ]
  },
  {
   "cell_type": "code",
   "execution_count": 26,
   "id": "35c2d93a",
   "metadata": {},
   "outputs": [
    {
     "name": "stdout",
     "output_type": "stream",
     "text": [
      "Событие: MainScreenAppear\n",
      "p-значение:  0.7526703436483038\n",
      "Не получилось отвергнуть нулевую гипотезу, нет оснований считать доли разными\n",
      "\n",
      "Событие: OffersScreenAppear\n",
      "p-значение:  0.24786096925282264\n",
      "Не получилось отвергнуть нулевую гипотезу, нет оснований считать доли разными\n",
      "\n",
      "Событие: CartScreenAppear\n",
      "p-значение:  0.22867643757335676\n",
      "Не получилось отвергнуть нулевую гипотезу, нет оснований считать доли разными\n",
      "\n",
      "Событие: PaymentScreenSuccessful\n",
      "p-значение:  0.11446627829276612\n",
      "Не получилось отвергнуть нулевую гипотезу, нет оснований считать доли разными\n",
      "\n"
     ]
    }
   ],
   "source": [
    "for event in data3['event'].unique():\n",
    "    z_test (event, data3[data3['exper']==246], data3[data3['exper']==247], 0.05, 16)\n",
    "    print()"
   ]
  },
  {
   "cell_type": "markdown",
   "id": "c527f009",
   "metadata": {},
   "source": [
    "*Вывод: по итогам А/А-теста между группами 246 и 247 ни по одному событию нет статистически значимой разницы при заданном уровне значимости и поправке,  приступаем к A/B-тестированию.*"
   ]
  },
  {
   "cell_type": "markdown",
   "id": "7295ba6e",
   "metadata": {},
   "source": [
    "**Проверяем есть ли статистически значимая разница между контрольными группами 246 и 248 (А/В-тест):**"
   ]
  },
  {
   "cell_type": "code",
   "execution_count": 27,
   "id": "2c3960d6",
   "metadata": {},
   "outputs": [
    {
     "name": "stdout",
     "output_type": "stream",
     "text": [
      "Событие: MainScreenAppear\n",
      "p-значение:  0.3387114076159288\n",
      "Не получилось отвергнуть нулевую гипотезу, нет оснований считать доли разными\n",
      "\n",
      "Событие: OffersScreenAppear\n",
      "p-значение:  0.21442476639710506\n",
      "Не получилось отвергнуть нулевую гипотезу, нет оснований считать доли разными\n",
      "\n",
      "Событие: CartScreenAppear\n",
      "p-значение:  0.08067367598823139\n",
      "Не получилось отвергнуть нулевую гипотезу, нет оснований считать доли разными\n",
      "\n",
      "Событие: PaymentScreenSuccessful\n",
      "p-значение:  0.21693033984516674\n",
      "Не получилось отвергнуть нулевую гипотезу, нет оснований считать доли разными\n",
      "\n"
     ]
    }
   ],
   "source": [
    "for event in data3['event'].unique():\n",
    "    z_test (event, data3[data3['exper']==246], data3[data3['exper']==248], 0.05, 16)\n",
    "    print()"
   ]
  },
  {
   "cell_type": "markdown",
   "id": "2ee68350",
   "metadata": {},
   "source": [
    "*Вывод: по итогам А/В-теста между группами 246 и 248 ни по одному событию нет статистически значимой разницы при заданном уровне значимости и поправке. Изменение шрифта не дало результата по изменению пользователей, перешедших на следующий этап оформления товара.*"
   ]
  },
  {
   "cell_type": "markdown",
   "id": "3d86bee9",
   "metadata": {},
   "source": [
    "**Проверяем есть ли статистически значимая разница между контрольными группами 247 и 248 (А/В-тест):**"
   ]
  },
  {
   "cell_type": "code",
   "execution_count": 28,
   "id": "f8ba31db",
   "metadata": {},
   "outputs": [
    {
     "name": "stdout",
     "output_type": "stream",
     "text": [
      "Событие: MainScreenAppear\n",
      "p-значение:  0.5194964354051703\n",
      "Не получилось отвергнуть нулевую гипотезу, нет оснований считать доли разными\n",
      "\n",
      "Событие: OffersScreenAppear\n",
      "p-значение:  0.9333751305879443\n",
      "Не получилось отвергнуть нулевую гипотезу, нет оснований считать доли разными\n",
      "\n",
      "Событие: CartScreenAppear\n",
      "p-значение:  0.5878284605111943\n",
      "Не получилось отвергнуть нулевую гипотезу, нет оснований считать доли разными\n",
      "\n",
      "Событие: PaymentScreenSuccessful\n",
      "p-значение:  0.7275718682261119\n",
      "Не получилось отвергнуть нулевую гипотезу, нет оснований считать доли разными\n",
      "\n"
     ]
    }
   ],
   "source": [
    "for event in data3['event'].unique():\n",
    "    z_test (event, data3[data3['exper']==247], data3[data3['exper']==248], 0.05, 16)\n",
    "    print()"
   ]
  },
  {
   "cell_type": "markdown",
   "id": "ab8d3c7f",
   "metadata": {},
   "source": [
    "*Вывод: по итогам А/В-теста между группами 247 и 248 ни по одному событию нет статистически значимой разницы при заданном уровне значимости и поправке. Изменение шрифта не дало результата по изменению пользователей, перешедших на следующий этап оформления товара.*"
   ]
  },
  {
   "cell_type": "markdown",
   "id": "b16c0132",
   "metadata": {},
   "source": [
    "**Проверяем есть ли статистически значимая разница между контрольными группами 246+247(объединенная группа) и 248 (А/В-тест):**"
   ]
  },
  {
   "cell_type": "code",
   "execution_count": 29,
   "id": "5d40dd59",
   "metadata": {},
   "outputs": [
    {
     "name": "stdout",
     "output_type": "stream",
     "text": [
      "Событие: MainScreenAppear\n",
      "p-значение:  0.3486684291093256\n",
      "Не получилось отвергнуть нулевую гипотезу, нет оснований считать доли разными\n",
      "\n",
      "Событие: OffersScreenAppear\n",
      "p-значение:  0.44582745409482394\n",
      "Не получилось отвергнуть нулевую гипотезу, нет оснований считать доли разными\n",
      "\n",
      "Событие: CartScreenAppear\n",
      "p-значение:  0.18683558686831558\n",
      "Не получилось отвергнуть нулевую гипотезу, нет оснований считать доли разными\n",
      "\n",
      "Событие: PaymentScreenSuccessful\n",
      "p-значение:  0.6107918742187335\n",
      "Не получилось отвергнуть нулевую гипотезу, нет оснований считать доли разными\n",
      "\n"
     ]
    }
   ],
   "source": [
    "for event in data3['event'].unique():\n",
    "    z_test (event, data3[data3['exper']!=248], data3[data3['exper']==248], 0.05, 16)\n",
    "    print()"
   ]
  },
  {
   "cell_type": "markdown",
   "id": "ee02af80",
   "metadata": {},
   "source": [
    "*Вывод: по итогам А/В-теста между объединенными группами 246+247 (А+А группа) и группой 248 (В группа) ни по одному событию нет статистически значимой разницы при заданном уровне значимости и поправке. Изменение шрифта не дало результата по изменению пользователей, перешедших на следующий этап оформления товара.*"
   ]
  },
  {
   "cell_type": "markdown",
   "id": "da9cf037",
   "metadata": {},
   "source": [
    "**Общий Вывод:**\n",
    "\n",
    "Подготовлены данные и проанализированы поведение покупателей на основании логов действий пользователей мобильного приложения.\n",
    "\n",
    "Проанализированы результаты А/А/В-теста. \n",
    "\n",
    "Выявлено:\n",
    "\n",
    " - Главную страницу увидели 7419 пользователей (100% от общего числа),\n",
    " - Корзину смотрели 4593 пользователей (61,9% от общего числа),\n",
    " - Карточку товара смотрели 3734 пользователя (50.3% от общего числа),\n",
    " - Совершили оплату 3539 пользователей (47,7% от общего числа).\n",
    "\n",
    "Событие (Tutorial) исключено из анализа ввиду необязательного прохождения и отсутствия влияния на остальные шаги.\n",
    "\n",
    "А/А/В-эксперимент по изменению шрифта во всем приложении проведен за период с 01.08.2019 по 08.08.2019.\n",
    "\n",
    "В эксперименте участвовало 3 группы пользователей:\n",
    "\n",
    " - А (246-ая) - 2484 пользователя,\n",
    " - А (247-ая) - 2513 пользователя,\n",
    " - В (248-ая) - 2537 пользователя.\n",
    "\n",
    "По условию, нужно было сопоставить доли по каждому событию между:\n",
    "\n",
    " - контрольными группами 246 и 247,\n",
    " - каждой из контрольной группы по отдельности и экспериментальной (246-248 и 247-248),\n",
    " - объединенной контрольной группой и экспериментальной (246+247 и 248).\n",
    "\n",
    "С учетом множественного теста, а именно 16 (4 события в каждом из 4-ех экспериментов), чтобы застраховать себя от ложного результата была введена поправка Бонферрони равная 16.\n",
    "\n",
    "Контрольный А/А-тест по каждому событию пройден успешно.\n",
    "Множесто А/В-тестов, проведённых по каждому из событий, не обнаружили статистически значимой разницы между группами.\n",
    "\n",
    "**Т.е. изменение шрифта в приложении не повлияло на поведение пользователей на всех этапах совершения покупки.**"
   ]
  },
  {
   "cell_type": "code",
   "execution_count": null,
   "id": "624d3604",
   "metadata": {},
   "outputs": [],
   "source": []
  }
 ],
 "metadata": {
  "ExecuteTimeLog": [
   {
    "duration": 1047,
    "start_time": "2023-05-10T16:52:42.535Z"
   },
   {
    "duration": 361,
    "start_time": "2023-05-10T16:52:43.584Z"
   },
   {
    "duration": 3,
    "start_time": "2023-05-10T16:52:43.946Z"
   },
   {
    "duration": 29,
    "start_time": "2023-05-10T16:52:43.951Z"
   },
   {
    "duration": 20,
    "start_time": "2023-05-10T16:52:43.981Z"
   },
   {
    "duration": 77,
    "start_time": "2023-05-10T16:52:44.003Z"
   },
   {
    "duration": 112,
    "start_time": "2023-05-10T16:52:44.095Z"
   },
   {
    "duration": 26,
    "start_time": "2023-05-10T16:52:44.209Z"
   },
   {
    "duration": 13,
    "start_time": "2023-05-10T16:52:44.238Z"
   },
   {
    "duration": 9,
    "start_time": "2023-05-10T16:52:44.254Z"
   },
   {
    "duration": 16,
    "start_time": "2023-05-10T16:52:44.295Z"
   },
   {
    "duration": 596,
    "start_time": "2023-05-10T16:52:44.313Z"
   },
   {
    "duration": 263,
    "start_time": "2023-05-10T16:52:44.911Z"
   },
   {
    "duration": 49,
    "start_time": "2023-05-10T16:52:45.176Z"
   },
   {
    "duration": 29,
    "start_time": "2023-05-10T16:52:45.227Z"
   },
   {
    "duration": 57,
    "start_time": "2023-05-10T16:52:45.258Z"
   },
   {
    "duration": 53,
    "start_time": "2023-05-10T16:52:45.316Z"
   },
   {
    "duration": 5,
    "start_time": "2023-05-10T16:52:45.370Z"
   },
   {
    "duration": 23,
    "start_time": "2023-05-10T16:52:45.377Z"
   },
   {
    "duration": 27,
    "start_time": "2023-05-10T16:52:45.401Z"
   },
   {
    "duration": 22,
    "start_time": "2023-05-10T16:52:45.430Z"
   },
   {
    "duration": 7,
    "start_time": "2023-05-10T16:52:45.454Z"
   },
   {
    "duration": 147,
    "start_time": "2023-05-10T16:52:45.463Z"
   },
   {
    "duration": 119,
    "start_time": "2023-05-10T16:52:45.612Z"
   },
   {
    "duration": 121,
    "start_time": "2023-05-10T16:52:45.733Z"
   },
   {
    "duration": 177,
    "start_time": "2023-05-10T16:52:45.856Z"
   },
   {
    "duration": 17,
    "start_time": "2023-05-10T16:59:27.321Z"
   },
   {
    "duration": 550,
    "start_time": "2023-05-10T16:59:33.140Z"
   },
   {
    "duration": 3,
    "start_time": "2023-05-10T17:02:35.336Z"
   },
   {
    "duration": 5,
    "start_time": "2023-05-10T17:02:57.438Z"
   },
   {
    "duration": 4,
    "start_time": "2023-05-10T17:03:15.983Z"
   },
   {
    "duration": 3,
    "start_time": "2023-05-10T17:03:22.975Z"
   },
   {
    "duration": 79,
    "start_time": "2023-05-10T17:03:34.942Z"
   },
   {
    "duration": 7,
    "start_time": "2023-05-10T17:04:02.784Z"
   },
   {
    "duration": 3,
    "start_time": "2023-05-10T17:04:06.724Z"
   },
   {
    "duration": 6,
    "start_time": "2023-05-10T17:04:23.596Z"
   }
  ],
  "kernelspec": {
   "display_name": "Python 3 (ipykernel)",
   "language": "python",
   "name": "python3"
  },
  "language_info": {
   "codemirror_mode": {
    "name": "ipython",
    "version": 3
   },
   "file_extension": ".py",
   "mimetype": "text/x-python",
   "name": "python",
   "nbconvert_exporter": "python",
   "pygments_lexer": "ipython3",
   "version": "3.9.13"
  },
  "toc": {
   "base_numbering": 1,
   "nav_menu": {},
   "number_sections": false,
   "sideBar": true,
   "skip_h1_title": false,
   "title_cell": "Table of Contents",
   "title_sidebar": "Contents",
   "toc_cell": true,
   "toc_position": {
    "height": "calc(100% - 180px)",
    "left": "10px",
    "top": "150px",
    "width": "207.273px"
   },
   "toc_section_display": true,
   "toc_window_display": true
  }
 },
 "nbformat": 4,
 "nbformat_minor": 5
}
